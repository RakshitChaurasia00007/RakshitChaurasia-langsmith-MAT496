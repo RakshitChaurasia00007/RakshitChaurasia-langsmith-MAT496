{
  "cells": [
    {
      "cell_type": "markdown",
      "metadata": {
        "id": "TXnRTwmIo3ty"
      },
      "source": [
        "# Run Experiments in Playground"
      ]
    },
    {
      "cell_type": "markdown",
      "metadata": {
        "id": "-efSKcVso3t1"
      },
      "source": [
        "### Setup"
      ]
    },
    {
      "cell_type": "code",
      "execution_count": 1,
      "metadata": {
        "id": "-PABZbA8o3t2"
      },
      "outputs": [],
      "source": [
        "# You can set them inline\n",
        "import os\n",
        "os.environ[\"LANGSMITH_API_KEY\"] = \"ADD the LANGSMITH key here\""
      ]
    },
    {
      "cell_type": "code",
      "execution_count": 2,
      "metadata": {
        "id": "hn8jZOBjo3t4",
        "colab": {
          "base_uri": "https://localhost:8080/"
        },
        "outputId": "f0b26009-4501-4d90-cd63-582b3605785d"
      },
      "outputs": [
        {
          "output_type": "execute_result",
          "data": {
            "text/plain": [
              "False"
            ]
          },
          "metadata": {},
          "execution_count": 2
        }
      ],
      "source": [
        "# Or you can use a .env file\n",
        "from dotenv import load_dotenv\n",
        "load_dotenv(dotenv_path=\"../../.env\", override=True)"
      ]
    },
    {
      "cell_type": "markdown",
      "metadata": {
        "id": "ZgQdsA-lo3t5"
      },
      "source": [
        "### Create a Dataset"
      ]
    },
    {
      "cell_type": "markdown",
      "metadata": {
        "id": "pHOUbaBlo3t5"
      },
      "source": [
        "Let's create a toy example dataset to run experiments over for a prompt"
      ]
    },
    {
      "cell_type": "code",
      "execution_count": 5,
      "metadata": {
        "id": "mP_EcxP8o3t6",
        "colab": {
          "base_uri": "https://localhost:8080/"
        },
        "outputId": "ea7bfc01-5714-48c9-bee1-8bef68d19591"
      },
      "outputs": [
        {
          "output_type": "execute_result",
          "data": {
            "text/plain": [
              "{'example_ids': ['8b11aff9-80ec-4044-b1a0-0b6c0102e073',\n",
              "  'bf9be1e6-d9f4-47fb-b55d-971ab34bac9e',\n",
              "  '21310bf8-2ac7-4604-ad4f-46ca38340b63',\n",
              "  '88005a6e-5670-4a37-baaf-fbee83f90d4f',\n",
              "  '56b78382-9c5f-42dc-a08b-a78341c0e774',\n",
              "  'd3b7460a-b4eb-4520-a122-fa98bbd109d5',\n",
              "  '1be62f40-ca4d-467c-929d-a1f616d8277a',\n",
              "  '3783a569-4b02-4adf-8942-895a82d0a748',\n",
              "  'c7b97a69-6b0a-449c-8d2f-1ccb6483ea61',\n",
              "  '8dacfe20-b3d4-4c2c-a677-b39f849d7939'],\n",
              " 'count': 10}"
            ]
          },
          "metadata": {},
          "execution_count": 5
        }
      ],
      "source": [
        "from langsmith import Client\n",
        "\n",
        "example_inputs = [\n",
        "    (\"What color are bananas?\", \"Bananas are yellow\"),\n",
        "    (\"What color is the ocean?\", \"The ocean is blue\"),\n",
        "    (\"What color are strawberries?\", \"Strawberries are red\"),\n",
        "    (\"What color are leaves?\", \"Leaves are green\"),\n",
        "    (\"What color is snow?\", \"Snow is white\"),\n",
        "    (\"What color is coal?\", \"Coal is black\"),\n",
        "    (\"What color is the sun?\", \"The sun is yellow\"),\n",
        "    (\"What color are clouds?\", \"Clouds are white\"),\n",
        "    (\"What color is blood?\", \"Blood is red\"),\n",
        "    (\"What color are lemons?\", \"Lemons are yellow\"),\n",
        "]\n",
        "\n",
        "client = Client()\n",
        "dataset_name = \"Sample Questions v2\"\n",
        "\n",
        "dataset = client.create_dataset(\n",
        "    dataset_name=dataset_name,\n",
        "    description=\"Sample questions about color\",\n",
        ")\n",
        "\n",
        "inputs = [{\"question\": input_prompt} for input_prompt, _ in example_inputs]\n",
        "outputs = [{\"output\": output_answer} for _, output_answer in example_inputs]\n",
        "\n",
        "client.create_examples(\n",
        "    inputs=inputs,\n",
        "    outputs=outputs,\n",
        "    dataset_id=dataset.id,\n",
        ")\n"
      ]
    }
  ],
  "metadata": {
    "kernelspec": {
      "display_name": "ls-academy",
      "language": "python",
      "name": "python3"
    },
    "language_info": {
      "codemirror_mode": {
        "name": "ipython",
        "version": 3
      },
      "file_extension": ".py",
      "mimetype": "text/x-python",
      "name": "python",
      "nbconvert_exporter": "python",
      "pygments_lexer": "ipython3",
      "version": "3.9.6"
    },
    "colab": {
      "provenance": []
    }
  },
  "nbformat": 4,
  "nbformat_minor": 0
}